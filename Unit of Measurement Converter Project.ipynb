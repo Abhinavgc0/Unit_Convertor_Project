{
 "cells": [
  {
   "cell_type": "markdown",
   "id": "88aad368",
   "metadata": {},
   "source": [
    "## Unit of Measurement Converter "
   ]
  },
  {
   "cell_type": "code",
   "execution_count": 1,
   "id": "03d04082",
   "metadata": {},
   "outputs": [
    {
     "name": "stdout",
     "output_type": "stream",
     "text": [
      "Enter Starting Unit of Measurement(inches,feet,yards): inches\n",
      "Enter Unit of Measurement to Convert to(inches,feet,yards): feet\n",
      "Enter Starting Measurement in Inches: 24\n",
      "Enter Starting Measurement in Feet: 3\n",
      "Enter Starting Measurement in Yards: 1\n"
     ]
    }
   ],
   "source": [
    "convert_from = input('Enter Starting Unit of Measurement(inches,feet,yards): ')\n",
    "\n",
    "convert_to = input('Enter Unit of Measurement to Convert to(inches,feet,yards): ')\n",
    "\n",
    "number_of_inches = input('Enter Starting Measurement in Inches: ')\n",
    "\n",
    "number_of_feet = input('Enter Starting Measurement in Feet: ')\n",
    "\n",
    "number_of_yard = input('Enter Starting Measurement in Yards: ')"
   ]
  },
  {
   "cell_type": "code",
   "execution_count": 7,
   "id": "bebe6ccd",
   "metadata": {},
   "outputs": [
    {
     "name": "stdout",
     "output_type": "stream",
     "text": [
      "Enter Starting Unit of Measurement(inches,feet,yards): in\n",
      "Enter Unit of Measurement to Convert to(inches,feet,yards): ft\n",
      "Enter Starting Measurement in Inches: 36\n",
      "Result: 36 Inches = 3 Feet\n"
     ]
    }
   ],
   "source": [
    "convert_from = input('Enter Starting Unit of Measurement(inches,feet,yards): ')\n",
    "\n",
    "convert_to = input('Enter Unit of Measurement to Convert to(inches,feet,yards): ')\n",
    "\n",
    "if convert_from.lower() in ['inches','in','inch']:\n",
    "    number_of_inches = int(input('Enter Starting Measurement in Inches: '))\n",
    "    \n",
    "    if convert_to.lower() in ['feet','foot','ft']:\n",
    "        print(\"Result: \" + str(number_of_inches) + \" Inches = \" + str(round(number_of_inches / 12,2)) + \" Feet\")\n",
    "    elif convert_to.lower() in ['yards','yard','yd','yds']:\n",
    "        print(\"Result: \" + str(number_of_inches) + \" Inches = \" + str(round(number_of_inches / 36,2)) + \" Yards\")\n",
    "    else:\n",
    "        print('Your input was incorrect')\n",
    "        \n",
    "elif convert_from.lower() in ['feet','foot','ft']:\n",
    "    number_of_feet = int(input('Enter Starting Measurement in Feet: '))\n",
    "    \n",
    "    if convert_to.lower() in ['inches','in','inch']:\n",
    "        print(\"Result: \" + str(number_of_feet) + \" Feet = \" + str(round(number_of_feet * 12)) + \" Inches\")\n",
    "    elif convert_to.lower() in ['yards','yard','yd','yds']:\n",
    "        print(\"Result: \" + str(number_of_feet) + \" Feet = \" + str(round(number_of_feet / 3,2)) + \" Yards\")\n",
    "    else:\n",
    "        print('Your input was incorrect')\n",
    "        \n",
    "elif convert_from.lower() in ['yards','yard','yd','yds']:\n",
    "    number_of_yard = int(input('Enter Starting Measurement in Yards: '))\n",
    "    \n",
    "    if convert_to.lower() in ['inches','in','inch']:\n",
    "        print(\"Result: \" + str(number_of_yard) + \" Yards = \" + str(round(number_of_yard * 36)) + \" Inches\")\n",
    "    elif convert_to.lower() in ['feet','foot','ft']:\n",
    "        print(\"Result: \" + str(number_of_yard) + \" Yards = \" + str(round(number_of_yard * 3)) + \" Feet\")\n",
    "    else:\n",
    "        print('Your input was incorrect')\n",
    "        \n",
    "else:\n",
    "    print('Please enter either Inches, Feet, or Yards.')\n",
    "\n",
    "        "
   ]
  },
  {
   "cell_type": "code",
   "execution_count": null,
   "id": "51c9e575",
   "metadata": {},
   "outputs": [],
   "source": []
  }
 ],
 "metadata": {
  "kernelspec": {
   "display_name": "Python 3 (ipykernel)",
   "language": "python",
   "name": "python3"
  },
  "language_info": {
   "codemirror_mode": {
    "name": "ipython",
    "version": 3
   },
   "file_extension": ".py",
   "mimetype": "text/x-python",
   "name": "python",
   "nbconvert_exporter": "python",
   "pygments_lexer": "ipython3",
   "version": "3.11.5"
  }
 },
 "nbformat": 4,
 "nbformat_minor": 5
}
